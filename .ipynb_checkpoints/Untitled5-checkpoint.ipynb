{
 "cells": [
  {
   "cell_type": "code",
   "execution_count": 1,
   "id": "c2f73c94-41b5-4c56-844d-0ff8daa7080c",
   "metadata": {},
   "outputs": [
    {
     "name": "stderr",
     "output_type": "stream",
     "text": [
      "WARNING:absl:Compiled the loaded model, but the compiled metrics have yet to be built. `model.compile_metrics` will be empty until you train or evaluate the model.\n",
      "INFO:     Started server process [3852]\n",
      "INFO:     Waiting for application startup.\n",
      "INFO:     Application startup complete.\n",
      "INFO:     Uvicorn running on http://0.0.0.0:8005 (Press CTRL+C to quit)\n"
     ]
    },
    {
     "name": "stdout",
     "output_type": "stream",
     "text": [
      "INFO:     127.0.0.1:50181 - \"POST /predict HTTP/1.1\" 307 Temporary Redirect\n",
      "Found 1 validated image filenames belonging to 1 classes.\n"
     ]
    },
    {
     "name": "stderr",
     "output_type": "stream",
     "text": [
      "c:\\Program Files\\Python311\\Lib\\site-packages\\keras\\src\\models\\functional.py:237: UserWarning: The structure of `inputs` doesn't match the expected structure.\n",
      "Expected: input_layer\n",
      "Received: inputs=('Tensor(shape=(1, 224, 224, 3))', 'Tensor(shape=(1, 1))')\n",
      "  warnings.warn(msg)\n"
     ]
    },
    {
     "name": "stdout",
     "output_type": "stream",
     "text": [
      "\u001b[1m1/1\u001b[0m \u001b[32m━━━━━━━━━━━━━━━━━━━━\u001b[0m\u001b[37m\u001b[0m \u001b[1m1s\u001b[0m 501ms/step\n",
      "INFO:     127.0.0.1:50182 - \"POST /predict/ HTTP/1.1\" 200 OK\n"
     ]
    }
   ],
   "source": [
    "import numpy as np\n",
    "import pandas as pd\n",
    "from fastapi import FastAPI, File, UploadFile\n",
    "from tensorflow.keras.models import load_model\n",
    "from tensorflow.keras.preprocessing.image import ImageDataGenerator\n",
    "from PIL import Image\n",
    "import io\n",
    "import uvicorn\n",
    "from uvicorn import Server, Config\n",
    "\n",
    "# Suppress TensorFlow warnings\n",
    "import os\n",
    "os.environ['TF_CPP_MIN_LOG_LEVEL'] = '3'\n",
    "import tensorflow as tf\n",
    "tf.get_logger().setLevel('ERROR')\n",
    "\n",
    "# Initialize FastAPI (define app at the top level)\n",
    "app = FastAPI()\n",
    "\n",
    "# Load the trained model\n",
    "model = load_model(\"cancer.h5\")  # Replace with your model path\n",
    "\n",
    "# Compile the model manually\n",
    "model.compile(optimizer=\"adam\", loss=\"categorical_crossentropy\", metrics=[\"accuracy\"])\n",
    "\n",
    "# Define the ImageDataGenerator with the same preprocessing as during training\n",
    "datagen = ImageDataGenerator(rescale=1.0 / 255)\n",
    "\n",
    "# Define class labels\n",
    "class_labels = [\"squamous_cell_carcinoma\", \"adenocarcinoma\", \"benign\"]\n",
    "\n",
    "# Define image size and batch size\n",
    "img_size = (224, 224)\n",
    "batch_size = 1  # Process one image at a time\n",
    "\n",
    "@app.post(\"/predict/\")\n",
    "async def predict(file: UploadFile = File(...)):\n",
    "    # Read the uploaded image\n",
    "    contents = await file.read()\n",
    "    image = Image.open(io.BytesIO(contents)).convert(\"RGB\")  # Ensure RGB format\n",
    "\n",
    "    # Save the image temporarily (required for flow_from_dataframe)\n",
    "    temp_image_path = \"temp_image.jpg\"\n",
    "    image.save(temp_image_path)\n",
    "\n",
    "    # Create a temporary DataFrame for the input image\n",
    "    temp_df = pd.DataFrame({\n",
    "        \"filepaths\": [temp_image_path],  # Column for image paths\n",
    "        \"labels\": [\"unknown\"]            # Dummy label (not used for prediction)\n",
    "    })\n",
    "\n",
    "    # Use flow_from_dataframe to preprocess the image\n",
    "    generator = datagen.flow_from_dataframe(\n",
    "        dataframe=temp_df,\n",
    "        x_col=\"filepaths\",               # Column with image paths\n",
    "        y_col=\"labels\",                  # Column with labels (not used for prediction)\n",
    "        target_size=img_size,            # Same as during training\n",
    "        class_mode=\"categorical\",        # Same as during training\n",
    "        color_mode=\"rgb\",                # Same as during training\n",
    "        shuffle=False,                   # No shuffling for prediction\n",
    "        batch_size=batch_size            # Process one image at a time\n",
    "    )\n",
    "\n",
    "    # Get the preprocessed image\n",
    "    preprocessed_img = next(generator)\n",
    "\n",
    "    # Get the model's prediction\n",
    "    predictions = model.predict(preprocessed_img)\n",
    "\n",
    "    # Get the predicted class index\n",
    "    predicted_class_index = np.argmax(predictions, axis=1)[0]\n",
    "\n",
    "    # Map the index to the class label\n",
    "    predicted_class = class_labels[predicted_class_index]\n",
    "\n",
    "    # Get the prediction probabilities\n",
    "    prediction_probabilities = {\n",
    "        class_labels[i]: float(predictions[0][i]) for i in range(len(class_labels))\n",
    "    }\n",
    "\n",
    "    # Return the prediction as a JSON response\n",
    "    return {\n",
    "        \"predicted_class\": predicted_class,\n",
    "        \"prediction_probabilities\": prediction_probabilities\n",
    "    }\n",
    "\n",
    "# Run the FastAPI app in a Jupyter notebook or interactive environment\n",
    "if __name__ == \"__main__\":\n",
    "\n",
    "\n",
    "    config = Config(app, host=\"0.0.0.0\", port=8005)\n",
    "    server = Server(config)\n",
    "    await server.serve()"
   ]
  },
  {
   "cell_type": "code",
   "execution_count": null,
   "id": "ce6ca136-2537-41b5-9109-52072bdd6388",
   "metadata": {},
   "outputs": [],
   "source": [
    "\n"
   ]
  },
  {
   "cell_type": "code",
   "execution_count": null,
   "id": "c33eaf6b",
   "metadata": {},
   "outputs": [],
   "source": []
  }
 ],
 "metadata": {
  "kernelspec": {
   "display_name": "Python 3 (ipykernel)",
   "language": "python",
   "name": "python3"
  },
  "language_info": {
   "codemirror_mode": {
    "name": "ipython",
    "version": 3
   },
   "file_extension": ".py",
   "mimetype": "text/x-python",
   "name": "python",
   "nbconvert_exporter": "python",
   "pygments_lexer": "ipython3",
   "version": "3.11.0"
  }
 },
 "nbformat": 4,
 "nbformat_minor": 5
}
